{
 "cells": [
  {
   "cell_type": "code",
   "execution_count": 100,
   "metadata": {},
   "outputs": [],
   "source": [
    "import pyspark\n",
    "from pyspark.sql import SparkSession\n",
    "\n",
    "spark = SparkSession.builder \\\n",
    "    .master(\"local[*]\") \\\n",
    "    .appName('test') \\\n",
    "    .getOrCreate()\n"
   ]
  },
  {
   "cell_type": "code",
   "execution_count": 101,
   "metadata": {},
   "outputs": [
    {
     "data": {
      "text/plain": [
       "'3.5.2'"
      ]
     },
     "execution_count": 101,
     "metadata": {},
     "output_type": "execute_result"
    }
   ],
   "source": [
    "# Question 1\n",
    "spark.version"
   ]
  },
  {
   "cell_type": "code",
   "execution_count": 102,
   "metadata": {},
   "outputs": [],
   "source": [
    "# Question 2\n",
    "spark.read \\\n",
    "    .parquet('yellow_tripdata_2024-10.parquet') \\\n",
    "    .repartition(4) \\\n",
    "    .write \\\n",
    "    .parquet('./trips')"
   ]
  },
  {
   "cell_type": "code",
   "execution_count": 103,
   "metadata": {},
   "outputs": [
    {
     "data": {
      "text/plain": [
       "125212"
      ]
     },
     "execution_count": 103,
     "metadata": {},
     "output_type": "execute_result"
    }
   ],
   "source": [
    "# Question 3\n",
    "from pyspark.sql.functions import date_format, col\n",
    "\n",
    "df = spark.read.parquet('yellow_tripdata_2024-10.parquet')\n",
    "df = df.withColumn('pickup_date', date_format('tpep_pickup_datetime', 'yyyy-MM-dd')) \\\n",
    "    .withColumn('dropoff_date', date_format('tpep_dropoff_datetime', 'yyyy-MM-dd')) \\\n",
    "    .filter(col('pickup_date') == '2024-10-15') \\\n",
    "    .filter(col('dropoff_date') == '2024-10-15') \\\n",
    "    .filter(col('trip_distance') > 0)\n",
    "\n",
    "df.count()"
   ]
  },
  {
   "cell_type": "code",
   "execution_count": 104,
   "metadata": {},
   "outputs": [
    {
     "name": "stdout",
     "output_type": "stream",
     "text": [
      "+------------------+\n",
      "|    hour_durations|\n",
      "+------------------+\n",
      "|162.61777777777777|\n",
      "+------------------+\n",
      "only showing top 1 row\n",
      "\n"
     ]
    }
   ],
   "source": [
    "# Question 4\n",
    "from pyspark.sql.functions import unix_timestamp\n",
    "\n",
    "df = spark.read.parquet('yellow_tripdata_2024-10.parquet')\n",
    "df = df.withColumn('hour_durations', (unix_timestamp(col(\"tpep_dropoff_datetime\")) - unix_timestamp(col(\"tpep_pickup_datetime\"))) / 3600) \\\n",
    "        .orderBy('hour_durations', ascending=False)\n",
    "df.select('hour_durations').show(1)"
   ]
  },
  {
   "cell_type": "code",
   "execution_count": 105,
   "metadata": {},
   "outputs": [
    {
     "name": "stdout",
     "output_type": "stream",
     "text": [
      "+----------+---------+---------------------------------------------+------------+\n",
      "|LocationID|Borough  |Zone                                         |service_zone|\n",
      "+----------+---------+---------------------------------------------+------------+\n",
      "|105       |Manhattan|Governor's Island/Ellis Island/Liberty Island|Yellow Zone |\n",
      "+----------+---------+---------------------------------------------+------------+\n",
      "\n"
     ]
    }
   ],
   "source": [
    "# Question 6\n",
    "from pyspark.sql.functions import count\n",
    "\n",
    "df = spark.read.parquet('yellow_tripdata_2024-10.parquet')\n",
    "\n",
    "res_id = df.groupBy(df.PULocationID) \\\n",
    "    .agg(count(df.PULocationID).alias('count')) \\\n",
    "    .orderBy('count') \\\n",
    "    .select('PULocationID') \\\n",
    "    .first()['PULocationID']\n",
    "\n",
    "spark.read \\\n",
    "    .option(\"header\", \"true\") \\\n",
    "    .option(\"inferSchema\", \"true\") \\\n",
    "    .csv('taxi_zone_lookup.csv') \\\n",
    "    .filter(col('LocationID') == res_id) \\\n",
    "    .show(truncate=False)"
   ]
  }
 ],
 "metadata": {
  "kernelspec": {
   "display_name": "base",
   "language": "python",
   "name": "python3"
  },
  "language_info": {
   "codemirror_mode": {
    "name": "ipython",
    "version": 3
   },
   "file_extension": ".py",
   "mimetype": "text/x-python",
   "name": "python",
   "nbconvert_exporter": "python",
   "pygments_lexer": "ipython3",
   "version": "3.12.4"
  }
 },
 "nbformat": 4,
 "nbformat_minor": 2
}
